{
 "cells": [
  {
   "cell_type": "code",
   "execution_count": 1,
   "id": "a0e7608a",
   "metadata": {},
   "outputs": [],
   "source": [
    "import pandas as pd\n",
    "import matplotlib.pyplot as plt\n",
    "import plotly.express as px\n",
    "import plotly.graph_objects as go"
   ]
  },
  {
   "cell_type": "code",
   "execution_count": 2,
   "id": "0ec17613",
   "metadata": {},
   "outputs": [],
   "source": [
    "# # Machine Learning libraries\n",
    "# from sklearn.model_selection import train_test_split\n",
    "# from sklearn.linear_model import LinearRegression\n",
    "# from sklearn.metrics import mean_squared_error\n",
    "# import tensorflow as tf"
   ]
  },
  {
   "cell_type": "code",
   "execution_count": 3,
   "id": "7c551dc4",
   "metadata": {},
   "outputs": [
    {
     "name": "stderr",
     "output_type": "stream",
     "text": [
      "C:\\Users\\tiffa\\AppData\\Local\\Temp\\ipykernel_19912\\3112131176.py:2: DtypeWarning: Columns (7,8) have mixed types. Specify dtype option on import or set low_memory=False.\n",
      "  df = pd.read_csv(file_path, na_filter=False)\n"
     ]
    }
   ],
   "source": [
    "file_path = 'Resources/US_Accidents_Main.csv'\n",
    "df = pd.read_csv(file_path, na_filter=False)"
   ]
  },
  {
   "cell_type": "code",
   "execution_count": 4,
   "id": "32132d57",
   "metadata": {},
   "outputs": [
    {
     "data": {
      "text/plain": [
       "ID                       7728394\n",
       "Source                   7728394\n",
       "Severity                 7728394\n",
       "Start_Time               7728394\n",
       "End_Time                 7728394\n",
       "Start_Lat                7728394\n",
       "Start_Lng                7728394\n",
       "End_Lat                  7728394\n",
       "End_Lng                  7728394\n",
       "Distance(mi)             7728394\n",
       "Description              7728394\n",
       "Street                   7728394\n",
       "City                     7728394\n",
       "County                   7728394\n",
       "State                    7728394\n",
       "Zipcode                  7728394\n",
       "Country                  7728394\n",
       "Timezone                 7728394\n",
       "Airport_Code             7728394\n",
       "Weather_Timestamp        7728394\n",
       "Temperature(F)           7728394\n",
       "Wind_Chill(F)            7728394\n",
       "Humidity(%)              7728394\n",
       "Pressure(in)             7728394\n",
       "Visibility(mi)           7728394\n",
       "Wind_Direction           7728394\n",
       "Wind_Speed(mph)          7728394\n",
       "Precipitation(in)        7728394\n",
       "Weather_Condition        7728394\n",
       "Amenity                  7728394\n",
       "Bump                     7728394\n",
       "Crossing                 7728394\n",
       "Give_Way                 7728394\n",
       "Junction                 7728394\n",
       "No_Exit                  7728394\n",
       "Railway                  7728394\n",
       "Roundabout               7728394\n",
       "Station                  7728394\n",
       "Stop                     7728394\n",
       "Traffic_Calming          7728394\n",
       "Traffic_Signal           7728394\n",
       "Turning_Loop             7728394\n",
       "Sunrise_Sunset           7728394\n",
       "Civil_Twilight           7728394\n",
       "Nautical_Twilight        7728394\n",
       "Astronomical_Twilight    7728394\n",
       "dtype: int64"
      ]
     },
     "execution_count": 4,
     "metadata": {},
     "output_type": "execute_result"
    }
   ],
   "source": [
    "df.count()"
   ]
  },
  {
   "cell_type": "code",
   "execution_count": 5,
   "id": "e3cd0ba5",
   "metadata": {},
   "outputs": [
    {
     "data": {
      "text/html": [
       "<div>\n",
       "<style scoped>\n",
       "    .dataframe tbody tr th:only-of-type {\n",
       "        vertical-align: middle;\n",
       "    }\n",
       "\n",
       "    .dataframe tbody tr th {\n",
       "        vertical-align: top;\n",
       "    }\n",
       "\n",
       "    .dataframe thead th {\n",
       "        text-align: right;\n",
       "    }\n",
       "</style>\n",
       "<table border=\"1\" class=\"dataframe\">\n",
       "  <thead>\n",
       "    <tr style=\"text-align: right;\">\n",
       "      <th></th>\n",
       "      <th>ID</th>\n",
       "      <th>Source</th>\n",
       "      <th>Severity</th>\n",
       "      <th>Start_Time</th>\n",
       "      <th>End_Time</th>\n",
       "      <th>Start_Lat</th>\n",
       "      <th>Start_Lng</th>\n",
       "      <th>End_Lat</th>\n",
       "      <th>End_Lng</th>\n",
       "      <th>Distance(mi)</th>\n",
       "      <th>...</th>\n",
       "      <th>Roundabout</th>\n",
       "      <th>Station</th>\n",
       "      <th>Stop</th>\n",
       "      <th>Traffic_Calming</th>\n",
       "      <th>Traffic_Signal</th>\n",
       "      <th>Turning_Loop</th>\n",
       "      <th>Sunrise_Sunset</th>\n",
       "      <th>Civil_Twilight</th>\n",
       "      <th>Nautical_Twilight</th>\n",
       "      <th>Astronomical_Twilight</th>\n",
       "    </tr>\n",
       "  </thead>\n",
       "  <tbody>\n",
       "    <tr>\n",
       "      <th>0</th>\n",
       "      <td>A-1</td>\n",
       "      <td>Source2</td>\n",
       "      <td>3</td>\n",
       "      <td>2016-02-08 05:46:00</td>\n",
       "      <td>2016-02-08 11:00:00</td>\n",
       "      <td>39.865147</td>\n",
       "      <td>-84.058723</td>\n",
       "      <td></td>\n",
       "      <td></td>\n",
       "      <td>0.01</td>\n",
       "      <td>...</td>\n",
       "      <td>False</td>\n",
       "      <td>False</td>\n",
       "      <td>False</td>\n",
       "      <td>False</td>\n",
       "      <td>False</td>\n",
       "      <td>False</td>\n",
       "      <td>Night</td>\n",
       "      <td>Night</td>\n",
       "      <td>Night</td>\n",
       "      <td>Night</td>\n",
       "    </tr>\n",
       "    <tr>\n",
       "      <th>1</th>\n",
       "      <td>A-2</td>\n",
       "      <td>Source2</td>\n",
       "      <td>2</td>\n",
       "      <td>2016-02-08 06:07:59</td>\n",
       "      <td>2016-02-08 06:37:59</td>\n",
       "      <td>39.928059</td>\n",
       "      <td>-82.831184</td>\n",
       "      <td></td>\n",
       "      <td></td>\n",
       "      <td>0.01</td>\n",
       "      <td>...</td>\n",
       "      <td>False</td>\n",
       "      <td>False</td>\n",
       "      <td>False</td>\n",
       "      <td>False</td>\n",
       "      <td>False</td>\n",
       "      <td>False</td>\n",
       "      <td>Night</td>\n",
       "      <td>Night</td>\n",
       "      <td>Night</td>\n",
       "      <td>Day</td>\n",
       "    </tr>\n",
       "  </tbody>\n",
       "</table>\n",
       "<p>2 rows × 46 columns</p>\n",
       "</div>"
      ],
      "text/plain": [
       "    ID   Source  Severity           Start_Time             End_Time  \\\n",
       "0  A-1  Source2         3  2016-02-08 05:46:00  2016-02-08 11:00:00   \n",
       "1  A-2  Source2         2  2016-02-08 06:07:59  2016-02-08 06:37:59   \n",
       "\n",
       "   Start_Lat  Start_Lng End_Lat End_Lng  Distance(mi)  ... Roundabout Station  \\\n",
       "0  39.865147 -84.058723                          0.01  ...      False   False   \n",
       "1  39.928059 -82.831184                          0.01  ...      False   False   \n",
       "\n",
       "    Stop Traffic_Calming Traffic_Signal Turning_Loop Sunrise_Sunset  \\\n",
       "0  False           False          False        False          Night   \n",
       "1  False           False          False        False          Night   \n",
       "\n",
       "  Civil_Twilight Nautical_Twilight Astronomical_Twilight  \n",
       "0          Night             Night                 Night  \n",
       "1          Night             Night                   Day  \n",
       "\n",
       "[2 rows x 46 columns]"
      ]
     },
     "execution_count": 5,
     "metadata": {},
     "output_type": "execute_result"
    }
   ],
   "source": [
    "df.head(2)"
   ]
  },
  {
   "cell_type": "code",
   "execution_count": 6,
   "id": "560e72a4",
   "metadata": {},
   "outputs": [
    {
     "data": {
      "text/plain": [
       "(7728394, 46)"
      ]
     },
     "execution_count": 6,
     "metadata": {},
     "output_type": "execute_result"
    }
   ],
   "source": [
    "df.shape"
   ]
  },
  {
   "cell_type": "code",
   "execution_count": 7,
   "id": "ed61d34a",
   "metadata": {},
   "outputs": [
    {
     "data": {
      "text/plain": [
       "Index(['ID', 'Source', 'Severity', 'Start_Time', 'End_Time', 'Start_Lat',\n",
       "       'Start_Lng', 'End_Lat', 'End_Lng', 'Distance(mi)', 'Description',\n",
       "       'Street', 'City', 'County', 'State', 'Zipcode', 'Country', 'Timezone',\n",
       "       'Airport_Code', 'Weather_Timestamp', 'Temperature(F)', 'Wind_Chill(F)',\n",
       "       'Humidity(%)', 'Pressure(in)', 'Visibility(mi)', 'Wind_Direction',\n",
       "       'Wind_Speed(mph)', 'Precipitation(in)', 'Weather_Condition', 'Amenity',\n",
       "       'Bump', 'Crossing', 'Give_Way', 'Junction', 'No_Exit', 'Railway',\n",
       "       'Roundabout', 'Station', 'Stop', 'Traffic_Calming', 'Traffic_Signal',\n",
       "       'Turning_Loop', 'Sunrise_Sunset', 'Civil_Twilight', 'Nautical_Twilight',\n",
       "       'Astronomical_Twilight'],\n",
       "      dtype='object')"
      ]
     },
     "execution_count": 7,
     "metadata": {},
     "output_type": "execute_result"
    }
   ],
   "source": [
    "df.columns"
   ]
  },
  {
   "cell_type": "code",
   "execution_count": 8,
   "id": "44c0b6ba",
   "metadata": {},
   "outputs": [
    {
     "data": {
      "text/plain": [
       "CA    1741433\n",
       "FL     880192\n",
       "TX     582837\n",
       "SC     382557\n",
       "NY     347960\n",
       "NC     338199\n",
       "VA     303301\n",
       "PA     296620\n",
       "MN     192084\n",
       "OR     179660\n",
       "AZ     170609\n",
       "GA     169234\n",
       "IL     168958\n",
       "TN     167388\n",
       "MI     162191\n",
       "LA     149701\n",
       "NJ     140719\n",
       "MD     140417\n",
       "OH     118115\n",
       "WA     108221\n",
       "AL     101044\n",
       "UT      97079\n",
       "CO      90885\n",
       "OK      83647\n",
       "MO      77323\n",
       "CT      71005\n",
       "IN      67224\n",
       "MA      61996\n",
       "WI      34688\n",
       "KY      32254\n",
       "NE      28870\n",
       "MT      28496\n",
       "IA      26307\n",
       "AR      22780\n",
       "NV      21665\n",
       "KS      20992\n",
       "DC      18630\n",
       "RI      16971\n",
       "MS      15181\n",
       "DE      14097\n",
       "WV      13793\n",
       "ID      11376\n",
       "NM      10325\n",
       "NH      10213\n",
       "WY       3757\n",
       "ND       3487\n",
       "ME       2698\n",
       "VT        926\n",
       "SD        289\n",
       "Name: State, dtype: int64"
      ]
     },
     "execution_count": 8,
     "metadata": {},
     "output_type": "execute_result"
    }
   ],
   "source": [
    "df.State.value_counts()"
   ]
  },
  {
   "cell_type": "code",
   "execution_count": 9,
   "id": "51f71d31",
   "metadata": {},
   "outputs": [
    {
     "data": {
      "text/html": [
       "<div>\n",
       "<style scoped>\n",
       "    .dataframe tbody tr th:only-of-type {\n",
       "        vertical-align: middle;\n",
       "    }\n",
       "\n",
       "    .dataframe tbody tr th {\n",
       "        vertical-align: top;\n",
       "    }\n",
       "\n",
       "    .dataframe thead th {\n",
       "        text-align: right;\n",
       "    }\n",
       "</style>\n",
       "<table border=\"1\" class=\"dataframe\">\n",
       "  <thead>\n",
       "    <tr style=\"text-align: right;\">\n",
       "      <th></th>\n",
       "      <th>ID</th>\n",
       "      <th>Source</th>\n",
       "      <th>Severity</th>\n",
       "      <th>Start_Time</th>\n",
       "      <th>End_Time</th>\n",
       "      <th>Start_Lat</th>\n",
       "      <th>Start_Lng</th>\n",
       "      <th>End_Lat</th>\n",
       "      <th>End_Lng</th>\n",
       "      <th>Distance(mi)</th>\n",
       "      <th>...</th>\n",
       "      <th>Roundabout</th>\n",
       "      <th>Station</th>\n",
       "      <th>Stop</th>\n",
       "      <th>Traffic_Calming</th>\n",
       "      <th>Traffic_Signal</th>\n",
       "      <th>Turning_Loop</th>\n",
       "      <th>Sunrise_Sunset</th>\n",
       "      <th>Civil_Twilight</th>\n",
       "      <th>Nautical_Twilight</th>\n",
       "      <th>Astronomical_Twilight</th>\n",
       "    </tr>\n",
       "  </thead>\n",
       "  <tbody>\n",
       "    <tr>\n",
       "      <th>512261</th>\n",
       "      <td>A-512276</td>\n",
       "      <td>Source2</td>\n",
       "      <td>2</td>\n",
       "      <td>2022-09-07 16:28:13</td>\n",
       "      <td>2022-09-07 22:29:41</td>\n",
       "      <td>35.221779</td>\n",
       "      <td>-114.126457</td>\n",
       "      <td></td>\n",
       "      <td></td>\n",
       "      <td>0.0</td>\n",
       "      <td>...</td>\n",
       "      <td>False</td>\n",
       "      <td>False</td>\n",
       "      <td>False</td>\n",
       "      <td>False</td>\n",
       "      <td>False</td>\n",
       "      <td>False</td>\n",
       "      <td>Day</td>\n",
       "      <td>Day</td>\n",
       "      <td>Day</td>\n",
       "      <td>Day</td>\n",
       "    </tr>\n",
       "    <tr>\n",
       "      <th>512526</th>\n",
       "      <td>A-512566</td>\n",
       "      <td>Source2</td>\n",
       "      <td>2</td>\n",
       "      <td>2022-09-08 07:11:44</td>\n",
       "      <td>2022-09-08 07:40:58</td>\n",
       "      <td>33.602829</td>\n",
       "      <td>-112.252823</td>\n",
       "      <td></td>\n",
       "      <td></td>\n",
       "      <td>0.0</td>\n",
       "      <td>...</td>\n",
       "      <td>False</td>\n",
       "      <td>False</td>\n",
       "      <td>False</td>\n",
       "      <td>False</td>\n",
       "      <td>False</td>\n",
       "      <td>False</td>\n",
       "      <td>Day</td>\n",
       "      <td>Day</td>\n",
       "      <td>Day</td>\n",
       "      <td>Day</td>\n",
       "    </tr>\n",
       "  </tbody>\n",
       "</table>\n",
       "<p>2 rows × 46 columns</p>\n",
       "</div>"
      ],
      "text/plain": [
       "              ID   Source  Severity           Start_Time             End_Time  \\\n",
       "512261  A-512276  Source2         2  2022-09-07 16:28:13  2022-09-07 22:29:41   \n",
       "512526  A-512566  Source2         2  2022-09-08 07:11:44  2022-09-08 07:40:58   \n",
       "\n",
       "        Start_Lat   Start_Lng End_Lat End_Lng  Distance(mi)  ... Roundabout  \\\n",
       "512261  35.221779 -114.126457                           0.0  ...      False   \n",
       "512526  33.602829 -112.252823                           0.0  ...      False   \n",
       "\n",
       "       Station   Stop Traffic_Calming Traffic_Signal Turning_Loop  \\\n",
       "512261   False  False           False          False        False   \n",
       "512526   False  False           False          False        False   \n",
       "\n",
       "       Sunrise_Sunset Civil_Twilight Nautical_Twilight Astronomical_Twilight  \n",
       "512261            Day            Day               Day                   Day  \n",
       "512526            Day            Day               Day                   Day  \n",
       "\n",
       "[2 rows x 46 columns]"
      ]
     },
     "execution_count": 9,
     "metadata": {},
     "output_type": "execute_result"
    }
   ],
   "source": [
    "az_df = df[df.State=='AZ'].copy()\n",
    "az_df[:2]"
   ]
  },
  {
   "cell_type": "code",
   "execution_count": 10,
   "id": "778b55d5",
   "metadata": {},
   "outputs": [
    {
     "data": {
      "text/plain": [
       "Index(['ID', 'Source', 'Severity', 'Start_Time', 'End_Time', 'Start_Lat',\n",
       "       'Start_Lng', 'End_Lat', 'End_Lng', 'Distance(mi)', 'Description',\n",
       "       'Street', 'City', 'County', 'State', 'Zipcode', 'Country', 'Timezone',\n",
       "       'Airport_Code', 'Weather_Timestamp', 'Temperature(F)', 'Wind_Chill(F)',\n",
       "       'Humidity(%)', 'Pressure(in)', 'Visibility(mi)', 'Wind_Direction',\n",
       "       'Wind_Speed(mph)', 'Precipitation(in)', 'Weather_Condition', 'Amenity',\n",
       "       'Bump', 'Crossing', 'Give_Way', 'Junction', 'No_Exit', 'Railway',\n",
       "       'Roundabout', 'Station', 'Stop', 'Traffic_Calming', 'Traffic_Signal',\n",
       "       'Turning_Loop', 'Sunrise_Sunset', 'Civil_Twilight', 'Nautical_Twilight',\n",
       "       'Astronomical_Twilight'],\n",
       "      dtype='object')"
      ]
     },
     "execution_count": 10,
     "metadata": {},
     "output_type": "execute_result"
    }
   ],
   "source": [
    "az_df.columns"
   ]
  },
  {
   "cell_type": "code",
   "execution_count": 11,
   "id": "2b932358",
   "metadata": {},
   "outputs": [],
   "source": [
    "az_df['Date'] = az_df.Weather_Timestamp.replace('\\s.*', '', regex=True)\n",
    "az_df.sort_values('Date',inplace=True)"
   ]
  },
  {
   "cell_type": "code",
   "execution_count": 12,
   "id": "05f3caa1",
   "metadata": {},
   "outputs": [
    {
     "data": {
      "image/png": "[encoded data removed]",
      "text/plain": [
       "<Figure size 1600x600 with 1 Axes>"
      ]
     },
     "metadata": {},
     "output_type": "display_data"
    }
   ],
   "source": [
    "az_df.groupby('Date').size().plot(rot=90, figsize=[16,6],grid=True);"
   ]
  },
  {
   "cell_type": "code",
   "execution_count": null,
   "id": "9479feed",
   "metadata": {},
   "outputs": [],
   "source": []
  }
 ],
 "metadata": {
  "kernelspec": {
   "display_name": "Python 3 (ipykernel)",
   "language": "python",
   "name": "python3"
  },
  "language_info": {
   "codemirror_mode": {
    "name": "ipython",
    "version": 3
   },
   "file_extension": ".py",
   "mimetype": "text/x-python",
   "name": "python",
   "nbconvert_exporter": "python",
   "pygments_lexer": "ipython3",
   "version": "3.10.9"
  }
 },
 "nbformat": 4,
 "nbformat_minor": 5
}
