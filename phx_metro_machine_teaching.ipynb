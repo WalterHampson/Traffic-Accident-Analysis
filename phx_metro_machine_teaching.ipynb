{
 "cells": [
  {
   "cell_type": "code",
   "execution_count": 1,
   "metadata": {},
   "outputs": [
    {
     "name": "stdout",
     "output_type": "stream",
     "text": [
      "[[  0   2   0   0]\n",
      " [  0 174   0   0]\n",
      " [  0  11   0   0]\n",
      " [  0   2   0   0]]\n",
      "              precision    recall  f1-score   support\n",
      "\n",
      "           1       0.00      0.00      0.00         2\n",
      "           2       0.92      1.00      0.96       174\n",
      "           3       0.00      0.00      0.00        11\n",
      "           4       0.00      0.00      0.00         2\n",
      "\n",
      "    accuracy                           0.92       189\n",
      "   macro avg       0.23      0.25      0.24       189\n",
      "weighted avg       0.85      0.92      0.88       189\n",
      "\n",
      "Confusion Matrix:\n",
      " [[210   1]\n",
      " [ 16   0]]\n",
      "\n",
      "Classification Report:\n",
      "               precision    recall  f1-score   support\n",
      "\n",
      "           0       0.93      1.00      0.96       211\n",
      "           1       0.00      0.00      0.00        16\n",
      "\n",
      "    accuracy                           0.93       227\n",
      "   macro avg       0.46      0.50      0.48       227\n",
      "weighted avg       0.86      0.93      0.89       227\n",
      "\n"
     ]
    }
   ],
   "source": [
    "import warnings\n",
    "warnings.filterwarnings('ignore')\n",
    "\n",
    "import numpy as np\n",
    "import pandas as pd\n",
    "from pathlib import Path\n",
    "from sklearn.metrics import confusion_matrix, classification_report\n",
    "from sklearn.model_selection import train_test_split\n",
    "from sklearn.linear_model import LogisticRegression\n",
    "\n",
    "\n",
    "\n",
    "# Load the dataset\n",
    "file_path = 'Resources/US_Accidents_2022_Phoenix_Metro2.csv'\n",
    "df = pd.read_csv(file_path, low_memory=False)\n",
    "\n",
    "# Drop columns with too many missing values\n",
    "df.drop(columns=['End_Lat', 'End_Lng'], inplace=True)\n",
    "\n",
    "# Handle missing values in other columns\n",
    "df.dropna(inplace=True)\n",
    "\n",
    "# Convert date columns to datetime and then to numerical values (e.g., ordinal)\n",
    "df['Accident_Date'] = pd.to_datetime(df['Accident_Date']).map(pd.Timestamp.toordinal)\n",
    "\n",
    "# Create labels and features\n",
    "y = df['Severity']\n",
    "X = df.drop(columns=['Severity'])\n",
    "\n",
    "# Identify non-numeric columns\n",
    "non_numeric_columns = X.select_dtypes(include=['object']).columns\n",
    "\n",
    "# One-hot encode categorical columns\n",
    "X = pd.get_dummies(X, columns=non_numeric_columns, drop_first=True)\n",
    "\n",
    "# Split the data into training and testing sets\n",
    "X_train, X_test, y_train, y_test = train_test_split(X, y, random_state=1)\n",
    "\n",
    "# Instantiate and fit the Logistic Regression model\n",
    "clf = LogisticRegression(random_state=1, max_iter=1000)\n",
    "clf.fit(X_train, y_train)\n",
    "\n",
    "# Make predictions\n",
    "y_pred = clf.predict(X_test)\n",
    "\n",
    "# Evaluate the model\n",
    "print(confusion_matrix(y_test, y_pred))\n",
    "print(classification_report(y_test, y_pred))\n",
    "\n",
    "# Combine classes into binary categories\n",
    "df['binary_target'] = df['Severity'].apply(lambda x: 0 if x in [1, 2] else 1)\n",
    "\n",
    "# Features and new binary target\n",
    "X = df.drop(columns=['Severity', 'binary_target'])\n",
    "y = df['binary_target']\n",
    "\n",
    "# One-hot encode categorical columns again\n",
    "X = pd.get_dummies(X, columns=non_numeric_columns, drop_first=True)\n",
    "\n",
    "# Split the data\n",
    "X_train, X_test, y_train, y_test = train_test_split(X, y, test_size=0.3, random_state=42)\n",
    "\n",
    "# Train the logistic regression model\n",
    "model = LogisticRegression(max_iter=1000)\n",
    "model.fit(X_train, y_train)\n",
    "\n",
    "# Predict on the test set\n",
    "y_pred = model.predict(X_test)\n",
    "\n",
    "# Evaluate the model\n",
    "conf_matrix = confusion_matrix(y_test, y_pred)\n",
    "class_report = classification_report(y_test, y_pred)\n",
    "\n",
    "print(\"Confusion Matrix:\\n\", conf_matrix)\n",
    "print(\"\\nClassification Report:\\n\", class_report)\n"
   ]
  },
  {
   "cell_type": "code",
   "execution_count": 10,
   "metadata": {
    "tags": []
   },
   "outputs": [
    {
     "name": "stdout",
     "output_type": "stream",
     "text": [
      "Confusion Matrix:\n",
      " [[210   1]\n",
      " [ 16   0]]\n",
      "\n",
      "Classification Report:\n",
      "               precision    recall  f1-score   support\n",
      "\n",
      "           0       0.93      1.00      0.96       211\n",
      "           1       0.00      0.00      0.00        16\n",
      "\n",
      "    accuracy                           0.93       227\n",
      "   macro avg       0.46      0.50      0.48       227\n",
      "weighted avg       0.86      0.93      0.89       227\n",
      "\n"
     ]
    }
   ],
   "source": [
    "from imblearn.over_sampling import SMOTE\n",
    "\n",
    "# Load the dataset\n",
    "file_path = 'Resources/US_Accidents_2022_Phoenix_Metro2.csv'\n",
    "df = pd.read_csv(file_path, low_memory=False)\n",
    "\n",
    "# Drop columns with too many missing values\n",
    "df.drop(columns=['End_Lat', 'End_Lng'], inplace=True)\n",
    "\n",
    "# Handle missing values in other columns\n",
    "df.dropna(inplace=True)\n",
    "\n",
    "# Convert date columns to datetime and then to numerical values (e.g., ordinal)\n",
    "df['Accident_Date'] = pd.to_datetime(df['Accident_Date']).map(pd.Timestamp.toordinal)\n",
    "\n",
    "# Combine classes into binary categories\n",
    "df['binary_target'] = df['Severity'].apply(lambda x: 0 if x in [1, 2] else 1)\n",
    "\n",
    "# Create labels and features\n",
    "y = df['binary_target']\n",
    "X = df.drop(columns=['Severity', 'binary_target'])\n",
    "\n",
    "# Identify non-numeric columns\n",
    "non_numeric_columns = X.select_dtypes(include=['object']).columns\n",
    "\n",
    "# One-hot encode categorical columns\n",
    "X = pd.get_dummies(X, columns=non_numeric_columns, drop_first=True)\n",
    "\n",
    "# Split the data into training and testing sets\n",
    "X_train, X_test, y_train, y_test = train_test_split(X, y, test_size=0.3, random_state=42)\n",
    "\n",
    "# Apply SMOTE to balance the classes\n",
    "smote = SMOTE(random_state=42)\n",
    "X_train_smote, y_train_smote = smote.fit_resample(X_train, y_train)\n",
    "\n",
    "# Train the logistic regression model with class weights\n",
    "model = LogisticRegression(max_iter=1000, class_weight='balanced')\n",
    "model.fit(X_train_smote, y_train_smote)\n",
    "\n",
    "# Predict on the test set\n",
    "y_pred = model.predict(X_test)\n",
    "\n",
    "# Evaluate the model\n",
    "conf_matrix = confusion_matrix(y_test, y_pred)\n",
    "class_report = classification_report(y_test, y_pred)\n",
    "\n",
    "print(\"Confusion Matrix:\\n\", conf_matrix)\n",
    "print(\"\\nClassification Report:\\n\", class_report)\n"
   ]
  },
  {
   "cell_type": "code",
   "execution_count": 12,
   "metadata": {
    "tags": []
   },
   "outputs": [
    {
     "name": "stdout",
     "output_type": "stream",
     "text": [
      "binary_target                                                               1.000000\n",
      "Severity                                                                    0.886905\n",
      "Description_Lane blocked due to crash on I-17 Southbound at AZ-101-LOOP.    0.185686\n",
      "Street_N Black Canyon Hwy                                                   0.181479\n",
      "Street_I-10 W                                                               0.172292\n",
      "                                                                              ...   \n",
      "Weather_Condition_Mostly Cloudy                                             0.004044\n",
      "Humidity(%)                                                                 0.001382\n",
      "Wind_Direction_VAR                                                          0.001158\n",
      "Bump                                                                             NaN\n",
      "Traffic_Calming                                                                  NaN\n",
      "Name: binary_target, Length: 2337, dtype: float64\n"
     ]
    }
   ],
   "source": [
    "# One-hot encode categorical columns\n",
    "df_encoded = pd.get_dummies(df, columns=non_numeric_columns, drop_first=True)\n",
    "\n",
    "# Compute correlation between features and target variable\n",
    "correlation = df_encoded.corr()['binary_target'].abs().sort_values(ascending=False)\n",
    "\n",
    "# Display correlation values\n",
    "print(correlation)\n"
   ]
  },
  {
   "cell_type": "code",
   "execution_count": 8,
   "metadata": {
    "tags": []
   },
   "outputs": [],
   "source": [
    "# Identify non-numeric columns\n",
    "non_numeric_columns = X.select_dtypes(include=['object']).columns\n",
    "\n",
    "# One-hot encode categorical columns\n",
    "X = pd.get_dummies(X, columns=non_numeric_columns, drop_first=True)\n"
   ]
  },
  {
   "cell_type": "code",
   "execution_count": 14,
   "metadata": {
    "tags": []
   },
   "outputs": [
    {
     "name": "stdout",
     "output_type": "stream",
     "text": [
      "binary_target                                                               1.000000\n",
      "Severity                                                                    0.886905\n",
      "Description_Lane blocked due to crash on I-17 Southbound at AZ-101-LOOP.    0.185686\n",
      "Street_N Black Canyon Hwy                                                   0.181479\n",
      "Street_I-10 W                                                               0.172292\n",
      "                                                                              ...   \n",
      "Weather_Condition_Mostly Cloudy                                             0.004044\n",
      "Humidity(%)                                                                 0.001382\n",
      "Wind_Direction_VAR                                                          0.001158\n",
      "Bump                                                                             NaN\n",
      "Traffic_Calming                                                                  NaN\n",
      "Name: binary_target, Length: 2337, dtype: float64\n"
     ]
    }
   ],
   "source": [
    "from imblearn.over_sampling import SMOTE\n",
    "\n",
    "# Load the dataset\n",
    "file_path = 'Resources/US_Accidents_2022_Phoenix_Metro2.csv'\n",
    "df = pd.read_csv(file_path, low_memory=False)\n",
    "\n",
    "# Drop columns with too many missing values\n",
    "df.drop(columns=['End_Lat', 'End_Lng'], inplace=True)\n",
    "\n",
    "# Handle missing values in other columns\n",
    "df.dropna(inplace=True)\n",
    "\n",
    "# Convert date columns to datetime and then to numerical values (e.g., ordinal)\n",
    "df['Accident_Date'] = pd.to_datetime(df['Accident_Date']).map(pd.Timestamp.toordinal)\n",
    "\n",
    "# Combine classes into binary categories\n",
    "df['binary_target'] = df['Severity'].apply(lambda x: 0 if x in [1, 2] else 1)\n",
    "\n",
    "# One-hot encode categorical columns\n",
    "df_encoded = pd.get_dummies(df, drop_first=True)\n",
    "\n",
    "# Compute correlation between features and target variable\n",
    "correlation = df_encoded.corr()['binary_target'].abs().sort_values(ascending=False)\n",
    "\n",
    "# Display correlation values\n",
    "print(correlation)\n"
   ]
  },
  {
   "cell_type": "code",
   "execution_count": 16,
   "metadata": {
    "tags": []
   },
   "outputs": [
    {
     "name": "stdout",
     "output_type": "stream",
     "text": [
      "   Accident_Date  Severity  Start_Lat   Start_Lng  Distance(mi)  Zipcode  \\\n",
      "1         738165         2  33.494709 -112.056328         0.000    85014   \n",
      "2         738269         2  33.406713 -112.061288         0.181    85040   \n",
      "3         738158         2  33.497898 -112.186309         0.053    85033   \n",
      "4         738251         2  33.552662 -112.209618         0.000    85303   \n",
      "5         738412         2  33.428950 -112.099768         6.607    85007   \n",
      "\n",
      "   Temperature(F)  Wind_Chill(F)  Humidity(%)  Pressure(in)  ...  \\\n",
      "1            58.0           58.0         27.0         29.14  ...   \n",
      "2            75.0           75.0          9.0         28.72  ...   \n",
      "3            62.0           62.0         22.0         28.95  ...   \n",
      "4            66.0           66.0         36.0         28.73  ...   \n",
      "5            95.0           95.0         21.0         28.61  ...   \n",
      "\n",
      "   Weather_Condition_Light Drizzle / Windy  Weather_Condition_Light Rain  \\\n",
      "1                                    False                         False   \n",
      "2                                    False                         False   \n",
      "3                                    False                         False   \n",
      "4                                    False                         False   \n",
      "5                                    False                         False   \n",
      "\n",
      "   Weather_Condition_Mostly Cloudy  Weather_Condition_Mostly Cloudy / Windy  \\\n",
      "1                            False                                    False   \n",
      "2                            False                                    False   \n",
      "3                            False                                    False   \n",
      "4                            False                                    False   \n",
      "5                            False                                    False   \n",
      "\n",
      "   Weather_Condition_Partly Cloudy  Weather_Condition_Partly Cloudy / Windy  \\\n",
      "1                            False                                    False   \n",
      "2                             True                                    False   \n",
      "3                            False                                    False   \n",
      "4                            False                                    False   \n",
      "5                            False                                    False   \n",
      "\n",
      "   Weather_Condition_Rain / Windy  Weather_Condition_T-Storm  \\\n",
      "1                           False                      False   \n",
      "2                           False                      False   \n",
      "3                           False                      False   \n",
      "4                           False                      False   \n",
      "5                           False                      False   \n",
      "\n",
      "   Weather_Condition_Thunder  Day_or_Night_Night  \n",
      "1                      False               False  \n",
      "2                      False                True  \n",
      "3                      False               False  \n",
      "4                      False                True  \n",
      "5                      False               False  \n",
      "\n",
      "[5 rows x 2337 columns]\n",
      "binary_target                                                               1.000000\n",
      "Severity                                                                    0.886905\n",
      "Description_Lane blocked due to crash on I-17 Southbound at AZ-101-LOOP.    0.185686\n",
      "Street_N Black Canyon Hwy                                                   0.181479\n",
      "Street_I-10 W                                                               0.172292\n",
      "                                                                              ...   \n",
      "Weather_Condition_Mostly Cloudy                                             0.004044\n",
      "Humidity(%)                                                                 0.001382\n",
      "Wind_Direction_VAR                                                          0.001158\n",
      "Bump                                                                             NaN\n",
      "Traffic_Calming                                                                  NaN\n",
      "Name: binary_target, Length: 2337, dtype: float64\n"
     ]
    }
   ],
   "source": [
    "from imblearn.over_sampling import SMOTE\n",
    "\n",
    "# Load the dataset\n",
    "file_path = 'Resources/US_Accidents_2022_Phoenix_Metro2.csv'\n",
    "df = pd.read_csv(file_path, low_memory=False)\n",
    "\n",
    "# Drop columns with too many missing values\n",
    "df.drop(columns=['End_Lat', 'End_Lng'], inplace=True)\n",
    "\n",
    "# Handle missing values in other columns\n",
    "df.dropna(inplace=True)\n",
    "\n",
    "# Convert date columns to datetime and then to numerical values (e.g., ordinal)\n",
    "df['Accident_Date'] = pd.to_datetime(df['Accident_Date']).map(pd.Timestamp.toordinal)\n",
    "\n",
    "# Combine classes into binary categories\n",
    "df['binary_target'] = df['Severity'].apply(lambda x: 0 if x in [1, 2] else 1)\n",
    "\n",
    "# One-hot encode categorical columns\n",
    "df_encoded = pd.get_dummies(df, drop_first=True)\n",
    "\n",
    "# Print the first few rows of the encoded DataFrame\n",
    "print(df_encoded.head())\n",
    "\n",
    "# Compute correlation between features and target variable\n",
    "correlation = df_encoded.corr()['binary_target'].abs().sort_values(ascending=False)\n",
    "\n",
    "# Display correlation values\n",
    "print(correlation)\n"
   ]
  },
  {
   "cell_type": "code",
   "execution_count": 18,
   "metadata": {
    "tags": []
   },
   "outputs": [
    {
     "name": "stdout",
     "output_type": "stream",
     "text": [
      "binary_target                                                               1.000000\n",
      "Severity                                                                    0.886905\n",
      "Description_Lane blocked due to crash on I-17 Southbound at AZ-101-LOOP.    0.185686\n",
      "Street_N Black Canyon Hwy                                                   0.181479\n",
      "Street_I-10 W                                                               0.172292\n",
      "                                                                              ...   \n",
      "Weather_Condition_Mostly Cloudy                                             0.004044\n",
      "Humidity(%)                                                                 0.001382\n",
      "Wind_Direction_VAR                                                          0.001158\n",
      "Bump                                                                             NaN\n",
      "Traffic_Calming                                                                  NaN\n",
      "Name: binary_target, Length: 2337, dtype: float64\n"
     ]
    }
   ],
   "source": [
    "# Compute correlation between features and target variable\n",
    "correlation = df_encoded.corr()['binary_target'].abs().sort_values(ascending=False)\n",
    "\n",
    "# Display correlation values\n",
    "print(correlation)\n"
   ]
  },
  {
   "cell_type": "code",
   "execution_count": 20,
   "metadata": {
    "tags": []
   },
   "outputs": [
    {
     "name": "stdout",
     "output_type": "stream",
     "text": [
      "Before SMOTE:\n",
      "binary_target\n",
      "0    490\n",
      "1     38\n",
      "Name: count, dtype: int64\n",
      "After SMOTE:\n",
      "binary_target\n",
      "0    490\n",
      "1    490\n",
      "Name: count, dtype: int64\n"
     ]
    }
   ],
   "source": [
    "print(\"Before SMOTE:\")\n",
    "print(y_train.value_counts())\n",
    "print(\"After SMOTE:\")\n",
    "print(pd.Series(y_train_smote).value_counts())\n"
   ]
  },
  {
   "cell_type": "code",
   "execution_count": null,
   "metadata": {},
   "outputs": [],
   "source": []
  }
 ],
 "metadata": {
  "kernelspec": {
   "display_name": "Python 3 (ipykernel)",
   "language": "python",
   "name": "python3"
  },
  "language_info": {
   "codemirror_mode": {
    "name": "ipython",
    "version": 3
   },
   "file_extension": ".py",
   "mimetype": "text/x-python",
   "name": "python",
   "nbconvert_exporter": "python",
   "pygments_lexer": "ipython3",
   "version": "3.11.5"
  },
  "vscode": {
   "interpreter": {
    "hash": "31f2aee4e71d21fbe5cf8b01ff0e069b9275f58929596ceb00d14d90e3e16cd6"
   }
  }
 },
 "nbformat": 4,
 "nbformat_minor": 4
}
