{
 "cells": [
  {
   "cell_type": "markdown",
   "metadata": {},
   "source": [
    "# Turning multi-class classification into Binary classification\n",
    "## (0) for low severity and (1) for high severity"
   ]
  },
  {
   "cell_type": "code",
   "execution_count": 2,
   "metadata": {},
   "outputs": [
    {
     "name": "stdout",
     "output_type": "stream",
     "text": [
      "[[  0   2   0   0]\n",
      " [  0 174   0   0]\n",
      " [  0  11   0   0]\n",
      " [  0   2   0   0]]\n",
      "              precision    recall  f1-score   support\n",
      "\n",
      "           1       0.00      0.00      0.00         2\n",
      "           2       0.92      1.00      0.96       174\n",
      "           3       0.00      0.00      0.00        11\n",
      "           4       0.00      0.00      0.00         2\n",
      "\n",
      "    accuracy                           0.92       189\n",
      "   macro avg       0.23      0.25      0.24       189\n",
      "weighted avg       0.85      0.92      0.88       189\n",
      "\n",
      "Confusion Matrix:\n",
      " [[210   1]\n",
      " [ 16   0]]\n",
      "\n",
      "Classification Report:\n",
      "               precision    recall  f1-score   support\n",
      "\n",
      "           0       0.93      1.00      0.96       211\n",
      "           1       0.00      0.00      0.00        16\n",
      "\n",
      "    accuracy                           0.93       227\n",
      "   macro avg       0.46      0.50      0.48       227\n",
      "weighted avg       0.86      0.93      0.89       227\n",
      "\n"
     ]
    }
   ],
   "source": [
    "import warnings\n",
    "warnings.filterwarnings('ignore')\n",
    "\n",
    "import numpy as np\n",
    "import pandas as pd\n",
    "from pathlib import Path\n",
    "from sklearn.metrics import confusion_matrix, classification_report\n",
    "from sklearn.model_selection import train_test_split\n",
    "from sklearn.linear_model import LogisticRegression\n",
    "from imblearn.over_sampling import SMOTE\n",
    "from sklearn.ensemble import RandomForestClassifier\n",
    "from sklearn.feature_selection import SelectFromModel\n",
    "from sklearn.metrics import precision_recall_curve, auc\n",
    "import xgboost as xgb\n",
    "import re\n",
    "from collections import Counter\n",
    "from sklearn.model_selection import GridSearchCV\n",
    "\n",
    "\n",
    "\n",
    "# Load the dataset\n",
    "file_path = 'Resources/US_Accidents_2022_Phoenix_Metro2.csv'\n",
    "df = pd.read_csv(file_path, low_memory=False)\n",
    "\n",
    "# Drop columns with too many missing values\n",
    "df.drop(columns=['End_Lat', 'End_Lng'], inplace=True)\n",
    "\n",
    "# Handle missing values in other columns\n",
    "df.dropna(inplace=True)\n",
    "\n",
    "# Convert date columns to datetime and then to numerical values (e.g., ordinal)\n",
    "df['Accident_Date'] = pd.to_datetime(df['Accident_Date']).map(pd.Timestamp.toordinal)\n",
    "\n",
    "# Create labels and features\n",
    "y = df['Severity']\n",
    "X = df.drop(columns=['Severity'])\n",
    "\n",
    "# Identify non-numeric columns\n",
    "non_numeric_columns = X.select_dtypes(include=['object']).columns\n",
    "\n",
    "# One-hot encode categorical columns\n",
    "X = pd.get_dummies(X, columns=non_numeric_columns, drop_first=True)\n",
    "\n",
    "# Split the data into training and testing sets\n",
    "X_train, X_test, y_train, y_test = train_test_split(X, y, random_state=1)\n",
    "\n",
    "# Instantiate and fit the Logistic Regression model\n",
    "clf = LogisticRegression(random_state=1, max_iter=1000)\n",
    "clf.fit(X_train, y_train)\n",
    "\n",
    "# Make predictions\n",
    "y_pred = clf.predict(X_test)\n",
    "\n",
    "# Evaluate the model\n",
    "print(confusion_matrix(y_test, y_pred))\n",
    "print(classification_report(y_test, y_pred))\n",
    "\n",
    "# Combine classes into binary categories\n",
    "df['binary_target'] = df['Severity'].apply(lambda x: 0 if x in [1, 2] else 1)\n",
    "\n",
    "# Features and new binary target\n",
    "X = df.drop(columns=['Severity', 'binary_target'])\n",
    "y = df['binary_target']\n",
    "\n",
    "# One-hot encode categorical columns again\n",
    "X = pd.get_dummies(X, columns=non_numeric_columns, drop_first=True)\n",
    "\n",
    "# Split the data\n",
    "X_train, X_test, y_train, y_test = train_test_split(X, y, test_size=0.3, random_state=42)\n",
    "\n",
    "# Train the logistic regression model\n",
    "model = LogisticRegression(max_iter=1000)\n",
    "model.fit(X_train, y_train)\n",
    "\n",
    "# Predict on the test set\n",
    "y_pred = model.predict(X_test)\n",
    "\n",
    "# Evaluate the model\n",
    "conf_matrix = confusion_matrix(y_test, y_pred)\n",
    "class_report = classification_report(y_test, y_pred)\n",
    "\n",
    "print(\"Confusion Matrix:\\n\", conf_matrix)\n",
    "print(\"\\nClassification Report:\\n\", class_report)\n"
   ]
  },
  {
   "cell_type": "markdown",
   "metadata": {},
   "source": [
    "# Introducing SMOTE to balance out classes"
   ]
  },
  {
   "cell_type": "code",
   "execution_count": 4,
   "metadata": {
    "tags": []
   },
   "outputs": [
    {
     "name": "stdout",
     "output_type": "stream",
     "text": [
      "Confusion Matrix:\n",
      " [[210   1]\n",
      " [ 16   0]]\n",
      "\n",
      "Classification Report:\n",
      "               precision    recall  f1-score   support\n",
      "\n",
      "           0       0.93      1.00      0.96       211\n",
      "           1       0.00      0.00      0.00        16\n",
      "\n",
      "    accuracy                           0.93       227\n",
      "   macro avg       0.46      0.50      0.48       227\n",
      "weighted avg       0.86      0.93      0.89       227\n",
      "\n"
     ]
    }
   ],
   "source": [
    "# Load the dataset\n",
    "file_path = 'Resources/US_Accidents_2022_Phoenix_Metro2.csv'\n",
    "df = pd.read_csv(file_path, low_memory=False)\n",
    "\n",
    "# Drop columns with too many missing values\n",
    "df.drop(columns=['End_Lat', 'End_Lng'], inplace=True)\n",
    "\n",
    "# Handle missing values in other columns\n",
    "df.dropna(inplace=True)\n",
    "\n",
    "# Convert date columns to datetime and then to numerical values (e.g., ordinal)\n",
    "df['Accident_Date'] = pd.to_datetime(df['Accident_Date']).map(pd.Timestamp.toordinal)\n",
    "\n",
    "# Combine classes into binary categories\n",
    "df['binary_target'] = df['Severity'].apply(lambda x: 0 if x in [1, 2] else 1)\n",
    "\n",
    "# Create labels and features\n",
    "y = df['binary_target']\n",
    "X = df.drop(columns=['Severity', 'binary_target'])\n",
    "\n",
    "# Identify non-numeric columns\n",
    "non_numeric_columns = X.select_dtypes(include=['object']).columns\n",
    "\n",
    "# One-hot encode categorical columns\n",
    "X = pd.get_dummies(X, columns=non_numeric_columns, drop_first=True)\n",
    "\n",
    "# Split the data into training and testing sets\n",
    "X_train, X_test, y_train, y_test = train_test_split(X, y, test_size=0.3, random_state=42)\n",
    "\n",
    "# Apply SMOTE to balance the classes\n",
    "smote = SMOTE(random_state=42)\n",
    "X_train_smote, y_train_smote = smote.fit_resample(X_train, y_train)\n",
    "\n",
    "# Train the logistic regression model with class weights\n",
    "model = LogisticRegression(max_iter=1000, class_weight='balanced')\n",
    "model.fit(X_train_smote, y_train_smote)\n",
    "\n",
    "# Predict on the test set\n",
    "y_pred = model.predict(X_test)\n",
    "\n",
    "# Evaluate the model\n",
    "conf_matrix = confusion_matrix(y_test, y_pred)\n",
    "class_report = classification_report(y_test, y_pred)\n",
    "\n",
    "print(\"Confusion Matrix:\\n\", conf_matrix)\n",
    "print(\"\\nClassification Report:\\n\", class_report)\n"
   ]
  },
  {
   "cell_type": "markdown",
   "metadata": {},
   "source": [
    "# Manually inputting dummies"
   ]
  },
  {
   "cell_type": "code",
   "execution_count": 6,
   "metadata": {
    "tags": []
   },
   "outputs": [],
   "source": [
    "# Identify non-numeric columns\n",
    "non_numeric_columns = X.select_dtypes(include=['object']).columns\n",
    "\n",
    "# One-hot encode categorical columns\n",
    "X = pd.get_dummies(X, columns=non_numeric_columns, drop_first=True)\n"
   ]
  },
  {
   "cell_type": "markdown",
   "metadata": {},
   "source": [
    "## Reimplimenting SMOTE"
   ]
  },
  {
   "cell_type": "code",
   "execution_count": 8,
   "metadata": {
    "tags": []
   },
   "outputs": [
    {
     "name": "stdout",
     "output_type": "stream",
     "text": [
      "binary_target                                                               1.000000\n",
      "Severity                                                                    0.886905\n",
      "Description_Lane blocked due to crash on I-17 Southbound at AZ-101-LOOP.    0.185686\n",
      "Street_N Black Canyon Hwy                                                   0.181479\n",
      "Street_I-10 W                                                               0.172292\n",
      "                                                                              ...   \n",
      "Weather_Condition_Mostly Cloudy                                             0.004044\n",
      "Humidity(%)                                                                 0.001382\n",
      "Wind_Direction_VAR                                                          0.001158\n",
      "Bump                                                                             NaN\n",
      "Traffic_Calming                                                                  NaN\n",
      "Name: binary_target, Length: 2337, dtype: float64\n"
     ]
    }
   ],
   "source": [
    "# Load the dataset\n",
    "file_path = 'Resources/US_Accidents_2022_Phoenix_Metro2.csv'\n",
    "df = pd.read_csv(file_path, low_memory=False)\n",
    "\n",
    "# Drop columns with too many missing values\n",
    "df.drop(columns=['End_Lat', 'End_Lng'], inplace=True)\n",
    "\n",
    "# Handle missing values in other columns\n",
    "df.dropna(inplace=True)\n",
    "\n",
    "# Convert date columns to datetime and then to numerical values (e.g., ordinal)\n",
    "df['Accident_Date'] = pd.to_datetime(df['Accident_Date']).map(pd.Timestamp.toordinal)\n",
    "\n",
    "# Combine classes into binary categories\n",
    "df['binary_target'] = df['Severity'].apply(lambda x: 0 if x in [1, 2] else 1)\n",
    "\n",
    "# One-hot encode categorical columns\n",
    "df_encoded = pd.get_dummies(df, drop_first=True)\n",
    "\n",
    "# Compute correlation between features and target variable\n",
    "correlation = df_encoded.corr()['binary_target'].abs().sort_values(ascending=False)\n",
    "\n",
    "# Display correlation values\n",
    "print(correlation)\n"
   ]
  },
  {
   "cell_type": "markdown",
   "metadata": {},
   "source": [
    "# Ensuring SMOTE was properly integrated"
   ]
  },
  {
   "cell_type": "code",
   "execution_count": 10,
   "metadata": {
    "tags": []
   },
   "outputs": [
    {
     "name": "stdout",
     "output_type": "stream",
     "text": [
      "Before SMOTE:\n",
      "binary_target\n",
      "0    490\n",
      "1     38\n",
      "Name: count, dtype: int64\n",
      "After SMOTE:\n",
      "binary_target\n",
      "0    490\n",
      "1    490\n",
      "Name: count, dtype: int64\n"
     ]
    }
   ],
   "source": [
    "print(\"Before SMOTE:\")\n",
    "print(y_train.value_counts())\n",
    "print(\"After SMOTE:\")\n",
    "print(pd.Series(y_train_smote).value_counts())\n"
   ]
  },
  {
   "cell_type": "markdown",
   "metadata": {},
   "source": [
    "# Changing approach to RandomForest\n",
    "## Seeing that linear regression was too simple for the data, a different approach seemed neccesary.\n",
    "### Based on Bagging (A process used in statistics) we create \"Trees\" to create multiple regression tasks"
   ]
  },
  {
   "cell_type": "code",
   "execution_count": 12,
   "metadata": {},
   "outputs": [
    {
     "name": "stdout",
     "output_type": "stream",
     "text": [
      "Confusion Matrix:\n",
      " [[209   2]\n",
      " [ 15   1]]\n",
      "\n",
      "Classification Report:\n",
      "               precision    recall  f1-score   support\n",
      "\n",
      "           0       0.93      0.99      0.96       211\n",
      "           1       0.33      0.06      0.11        16\n",
      "\n",
      "    accuracy                           0.93       227\n",
      "   macro avg       0.63      0.53      0.53       227\n",
      "weighted avg       0.89      0.93      0.90       227\n",
      "\n",
      "Precision-Recall AUC:  0.374246396687161\n"
     ]
    }
   ],
   "source": [
    "# Load the dataset\n",
    "file_path = 'Resources/US_Accidents_2022_Phoenix_Metro2.csv'\n",
    "df = pd.read_csv(file_path, low_memory=False)\n",
    "\n",
    "# Drop columns with too many missing values\n",
    "df.drop(columns=['End_Lat', 'End_Lng'], inplace=True)\n",
    "\n",
    "# Handle missing values in other columns\n",
    "df.dropna(inplace=True)\n",
    "\n",
    "# Convert date columns to datetime and then to numerical values (e.g., ordinal)\n",
    "df['Accident_Date'] = pd.to_datetime(df['Accident_Date']).map(pd.Timestamp.toordinal)\n",
    "\n",
    "# Combine classes into binary categories\n",
    "df['binary_target'] = df['Severity'].apply(lambda x: 0 if x in [1, 2] else 1)\n",
    "\n",
    "# Create labels and features\n",
    "y = df['binary_target']\n",
    "X = df.drop(columns=['Severity', 'binary_target'])\n",
    "\n",
    "# Identify non-numeric columns\n",
    "non_numeric_columns = X.select_dtypes(include=['object']).columns\n",
    "\n",
    "# One-hot encode categorical columns\n",
    "X = pd.get_dummies(X, columns=non_numeric_columns, drop_first=True)\n",
    "\n",
    "# Split the data into training and testing sets\n",
    "X_train, X_test, y_train, y_test = train_test_split(X, y, test_size=0.3, random_state=42)\n",
    "\n",
    "# Apply SMOTE to balance the classes\n",
    "smote = SMOTE(random_state=42)\n",
    "X_train_smote, y_train_smote = smote.fit_resample(X_train, y_train)\n",
    "\n",
    "# Feature selection using RandomForest\n",
    "selector = SelectFromModel(RandomForestClassifier(n_estimators=100, random_state=42))\n",
    "selector.fit(X_train_smote, y_train_smote)\n",
    "X_train_smote_selected = selector.transform(X_train_smote)\n",
    "X_test_selected = selector.transform(X_test)\n",
    "\n",
    "# Train the RandomForest classifier\n",
    "model = RandomForestClassifier(n_estimators=100, random_state=42, class_weight='balanced')\n",
    "model.fit(X_train_smote_selected, y_train_smote)\n",
    "\n",
    "# Predict on the test set\n",
    "y_pred = model.predict(X_test_selected)\n",
    "\n",
    "# Evaluate the model\n",
    "conf_matrix = confusion_matrix(y_test, y_pred)\n",
    "class_report = classification_report(y_test, y_pred)\n",
    "\n",
    "print(\"Confusion Matrix:\\n\", conf_matrix)\n",
    "print(\"\\nClassification Report:\\n\", class_report)\n",
    "\n",
    "# Additional evaluation: Precision-Recall AUC\n",
    "y_pred_prob = model.predict_proba(X_test_selected)[:, 1]\n",
    "precision, recall, _ = precision_recall_curve(y_test, y_pred_prob)\n",
    "pr_auc = auc(recall, precision)\n",
    "\n",
    "print(\"Precision-Recall AUC: \", pr_auc)\n"
   ]
  },
  {
   "cell_type": "markdown",
   "metadata": {},
   "source": [
    "# Introducing Gradient Boosting or XGBoost to rebalance the classes"
   ]
  },
  {
   "cell_type": "code",
   "execution_count": 14,
   "metadata": {
    "tags": []
   },
   "outputs": [
    {
     "name": "stdout",
     "output_type": "stream",
     "text": [
      "Confusion Matrix:\n",
      " [[201  10]\n",
      " [  6  10]]\n",
      "\n",
      "Classification Report:\n",
      "               precision    recall  f1-score   support\n",
      "\n",
      "           0       0.97      0.95      0.96       211\n",
      "           1       0.50      0.62      0.56        16\n",
      "\n",
      "    accuracy                           0.93       227\n",
      "   macro avg       0.74      0.79      0.76       227\n",
      "weighted avg       0.94      0.93      0.93       227\n",
      "\n",
      "Precision-Recall AUC:  0.3428297628362646\n"
     ]
    }
   ],
   "source": [
    "# Load the dataset\n",
    "file_path = 'Resources/US_Accidents_2022_Phoenix_Metro2.csv'\n",
    "df = pd.read_csv(file_path, low_memory=False)\n",
    "\n",
    "# Drop columns with too many missing values\n",
    "df.drop(columns=['End_Lat', 'End_Lng'], inplace=True)\n",
    "\n",
    "# Handle missing values in other columns\n",
    "df.dropna(inplace=True)\n",
    "\n",
    "# Convert date columns to datetime and then to numerical values (e.g., ordinal)\n",
    "df['Accident_Date'] = pd.to_datetime(df['Accident_Date']).map(pd.Timestamp.toordinal)\n",
    "\n",
    "# Combine classes into binary categories\n",
    "df['binary_target'] = df['Severity'].apply(lambda x: 0 if x in [1, 2] else 1)\n",
    "\n",
    "# Create labels and features\n",
    "y = df['binary_target']\n",
    "X = df.drop(columns=['Severity', 'binary_target'])\n",
    "\n",
    "# Identify non-numeric columns\n",
    "non_numeric_columns = X.select_dtypes(include=['object']).columns\n",
    "\n",
    "# One-hot encode categorical columns\n",
    "X = pd.get_dummies(X, columns=non_numeric_columns, drop_first=True)\n",
    "\n",
    "# Clean feature names to remove problematic characters\n",
    "X.columns = [re.sub(r'[<>\\[\\]]', '_', col) for col in X.columns]\n",
    "\n",
    "# Split the data into training and testing sets\n",
    "X_train, X_test, y_train, y_test = train_test_split(X, y, test_size=0.3, random_state=42)\n",
    "\n",
    "# Apply SMOTE to balance the classes\n",
    "smote = SMOTE(random_state=42)\n",
    "X_train_smote, y_train_smote = smote.fit_resample(X_train, y_train)\n",
    "\n",
    "# Feature selection using XGBoost\n",
    "selector = SelectFromModel(xgb.XGBClassifier(n_estimators=100, random_state=42))\n",
    "selector.fit(X_train_smote, y_train_smote)\n",
    "X_train_smote_selected = selector.transform(X_train_smote)\n",
    "X_test_selected = selector.transform(X_test)\n",
    "\n",
    "# Train the XGBoost classifier\n",
    "model = xgb.XGBClassifier(n_estimators=100, random_state=42, scale_pos_weight=len(y_train_smote)/sum(y_train_smote))\n",
    "model.fit(X_train_smote_selected, y_train_smote)\n",
    "\n",
    "# Predict on the test set\n",
    "y_pred = model.predict(X_test_selected)\n",
    "\n",
    "# Evaluate the model\n",
    "conf_matrix = confusion_matrix(y_test, y_pred)\n",
    "class_report = classification_report(y_test, y_pred)\n",
    "\n",
    "print(\"Confusion Matrix:\\n\", conf_matrix)\n",
    "print(\"\\nClassification Report:\\n\", class_report)\n",
    "\n",
    "# Additional evaluation: Precision-Recall AUC\n",
    "y_pred_prob = model.predict_proba(X_test_selected)[:, 1]\n",
    "precision, recall, _ = precision_recall_curve(y_test, y_pred_prob)\n",
    "pr_auc = auc(recall, precision)\n",
    "\n",
    "print(\"Precision-Recall AUC: \", pr_auc)\n"
   ]
  },
  {
   "cell_type": "markdown",
   "metadata": {},
   "source": [
    "# Calculating the scale_pos_weight"
   ]
  },
  {
   "cell_type": "code",
   "execution_count": 16,
   "metadata": {
    "tags": []
   },
   "outputs": [
    {
     "name": "stdout",
     "output_type": "stream",
     "text": [
      "Confusion Matrix:\n",
      " [[203   8]\n",
      " [  7   9]]\n",
      "\n",
      "Classification Report:\n",
      "               precision    recall  f1-score   support\n",
      "\n",
      "           0       0.97      0.96      0.96       211\n",
      "           1       0.53      0.56      0.55        16\n",
      "\n",
      "    accuracy                           0.93       227\n",
      "   macro avg       0.75      0.76      0.75       227\n",
      "weighted avg       0.94      0.93      0.93       227\n",
      "\n"
     ]
    }
   ],
   "source": [
    "# Calculate the scale_pos_weight parameter\n",
    "counter = Counter(y_train_smote)\n",
    "scale_pos_weight = counter[0] / counter[1]\n",
    "\n",
    "# Train the XGBoost classifier with adjusted class weights\n",
    "model = xgb.XGBClassifier(n_estimators=100, random_state=42, scale_pos_weight=scale_pos_weight)\n",
    "model.fit(X_train_smote_selected, y_train_smote)\n",
    "\n",
    "# Predict on the test set\n",
    "y_pred = model.predict(X_test_selected)\n",
    "\n",
    "# Evaluate the model\n",
    "conf_matrix = confusion_matrix(y_test, y_pred)\n",
    "class_report = classification_report(y_test, y_pred)\n",
    "\n",
    "print(\"Confusion Matrix:\\n\", conf_matrix)\n",
    "print(\"\\nClassification Report:\\n\", class_report)\n"
   ]
  },
  {
   "cell_type": "markdown",
   "metadata": {},
   "source": [
    "# Implementing Hyperparameter tuning forfinding optimal parameters for the XGBoost"
   ]
  },
  {
   "cell_type": "code",
   "execution_count": 18,
   "metadata": {
    "tags": []
   },
   "outputs": [
    {
     "name": "stdout",
     "output_type": "stream",
     "text": [
      "Best Parameters:\n",
      " {'learning_rate': 0.1, 'max_depth': 4, 'n_estimators': 100, 'subsample': 1.0}\n",
      "Confusion Matrix:\n",
      " [[203   8]\n",
      " [  7   9]]\n",
      "\n",
      "Classification Report:\n",
      "               precision    recall  f1-score   support\n",
      "\n",
      "           0       0.97      0.96      0.96       211\n",
      "           1       0.53      0.56      0.55        16\n",
      "\n",
      "    accuracy                           0.93       227\n",
      "   macro avg       0.75      0.76      0.75       227\n",
      "weighted avg       0.94      0.93      0.93       227\n",
      "\n"
     ]
    }
   ],
   "source": [
    "# Define the parameter grid\n",
    "param_grid = {\n",
    "    'n_estimators': [50, 100, 200],\n",
    "    'max_depth': [3, 4, 5],\n",
    "    'learning_rate': [0.01, 0.1, 0.2],\n",
    "    'subsample': [0.8, 1.0]\n",
    "}\n",
    "\n",
    "# Perform grid search\n",
    "grid_search = GridSearchCV(xgb.XGBClassifier(random_state=42, scale_pos_weight=scale_pos_weight), param_grid, cv=5, scoring='f1')\n",
    "grid_search.fit(X_train_smote_selected, y_train_smote)\n",
    "\n",
    "# Get the best model from grid search\n",
    "best_model = grid_search.best_estimator_\n",
    "\n",
    "# Predict on the test set\n",
    "y_pred = best_model.predict(X_test_selected)\n",
    "\n",
    "# Evaluate the best model\n",
    "conf_matrix = confusion_matrix(y_test, y_pred)\n",
    "class_report = classification_report(y_test, y_pred)\n",
    "\n",
    "print(\"Best Parameters:\\n\", grid_search.best_params_)\n",
    "print(\"Confusion Matrix:\\n\", conf_matrix)\n",
    "print(\"\\nClassification Report:\\n\", class_report)\n"
   ]
  },
  {
   "cell_type": "markdown",
   "metadata": {},
   "source": [
    "# Threshold adjustments to optimize the F1-score"
   ]
  },
  {
   "cell_type": "code",
   "execution_count": 20,
   "metadata": {
    "tags": []
   },
   "outputs": [
    {
     "name": "stdout",
     "output_type": "stream",
     "text": [
      "Best threshold: 0.7145883\n",
      "Confusion Matrix with Adjusted Threshold:\n",
      " [[205   6]\n",
      " [  7   9]]\n",
      "\n",
      "Classification Report with Adjusted Threshold:\n",
      "               precision    recall  f1-score   support\n",
      "\n",
      "           0       0.97      0.97      0.97       211\n",
      "           1       0.60      0.56      0.58        16\n",
      "\n",
      "    accuracy                           0.94       227\n",
      "   macro avg       0.78      0.77      0.77       227\n",
      "weighted avg       0.94      0.94      0.94       227\n",
      "\n"
     ]
    }
   ],
   "source": [
    "# Predict probabilities\n",
    "y_pred_prob = best_model.predict_proba(X_test_selected)[:, 1]\n",
    "\n",
    "# Calculate precision-recall curve\n",
    "precision, recall, thresholds = precision_recall_curve(y_test, y_pred_prob)\n",
    "f1_scores = 2 * (precision * recall) / (precision + recall)\n",
    "\n",
    "# Find the best threshold\n",
    "best_threshold = thresholds[np.argmax(f1_scores)]\n",
    "\n",
    "# Adjust predictions based on the best threshold\n",
    "y_pred_adjusted = (y_pred_prob >= best_threshold).astype(int)\n",
    "\n",
    "# Evaluate the adjusted predictions\n",
    "conf_matrix_adjusted = confusion_matrix(y_test, y_pred_adjusted)\n",
    "class_report_adjusted = classification_report(y_test, y_pred_adjusted)\n",
    "\n",
    "print(\"Best threshold:\", best_threshold)\n",
    "print(\"Confusion Matrix with Adjusted Threshold:\\n\", conf_matrix_adjusted)\n",
    "print(\"\\nClassification Report with Adjusted Threshold:\\n\", class_report_adjusted)\n"
   ]
  },
  {
   "cell_type": "code",
   "execution_count": null,
   "metadata": {
    "tags": []
   },
   "outputs": [],
   "source": []
  },
  {
   "cell_type": "code",
   "execution_count": null,
   "metadata": {},
   "outputs": [],
   "source": []
  }
 ],
 "metadata": {
  "kernelspec": {
   "display_name": "Python 3 (ipykernel)",
   "language": "python",
   "name": "python3"
  },
  "language_info": {
   "codemirror_mode": {
    "name": "ipython",
    "version": 3
   },
   "file_extension": ".py",
   "mimetype": "text/x-python",
   "name": "python",
   "nbconvert_exporter": "python",
   "pygments_lexer": "ipython3",
   "version": "3.11.5"
  },
  "vscode": {
   "interpreter": {
    "hash": "31f2aee4e71d21fbe5cf8b01ff0e069b9275f58929596ceb00d14d90e3e16cd6"
   }
  }
 },
 "nbformat": 4,
 "nbformat_minor": 4
}
